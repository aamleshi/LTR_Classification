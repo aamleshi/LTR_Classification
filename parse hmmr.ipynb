{
 "cells": [
  {
   "cell_type": "code",
   "execution_count": 39,
   "metadata": {
    "collapsed": true
   },
   "outputs": [],
   "source": [
    "import pandas as pd\n",
    "import numpy as np\n",
    "import matplotlib.pyplot as plt\n",
    "from tqdm import tqdm\n",
    "import glob\n",
    "import csv\n",
    "import re"
   ]
  },
  {
   "cell_type": "code",
   "execution_count": 10,
   "metadata": {},
   "outputs": [],
   "source": [
    "out_directory = \"parsed_hmmer/\"\n",
    "header = [Evalue, rank]"
   ]
  },
  {
   "cell_type": "code",
   "execution_count": 43,
   "metadata": {},
   "outputs": [
    {
     "name": "stderr",
     "output_type": "stream",
     "text": [
      "100%|██████████| 7320/7320 [03:23<00:00, 35.88it/s]\n"
     ]
    }
   ],
   "source": [
    "for file in tqdm(glob.glob(\"hmmer_files/*\")):\n",
    "    infile = open(file, 'r')\n",
    "    name = file[21:]\n",
    "    outfile = open(out_directory+name+'.csv', 'w')\n",
    "    fieldnames = ['ID', 'Eval', 'rank']\n",
    "    writer = csv.DictWriter(outfile, fieldnames=fieldnames)\n",
    "    writer.writeheader()    \n",
    "    rank = 1\n",
    "    for line in infile:\n",
    "        if line[0] != '#':\n",
    "            line = re.sub(' +',' ',line)\n",
    "            parse = line.split(' ')\n",
    "            ID = parse[0]\n",
    "            Eval = parse[4]\n",
    "            writer.writerow({'ID': ID, 'Eval': Eval, 'rank': rank})\n",
    "            rank+=1;\n",
    "    outfile.close()\n",
    "    infile.close()"
   ]
  },
  {
   "cell_type": "code",
   "execution_count": null,
   "metadata": {
    "collapsed": true
   },
   "outputs": [],
   "source": []
  }
 ],
 "metadata": {
  "kernelspec": {
   "display_name": "Python 3",
   "language": "python",
   "name": "python3"
  },
  "language_info": {
   "codemirror_mode": {
    "name": "ipython",
    "version": 3
   },
   "file_extension": ".py",
   "mimetype": "text/x-python",
   "name": "python",
   "nbconvert_exporter": "python",
   "pygments_lexer": "ipython3",
   "version": "3.6.1"
  }
 },
 "nbformat": 4,
 "nbformat_minor": 2
}
