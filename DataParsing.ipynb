{
 "cells": [
  {
   "cell_type": "markdown",
   "metadata": {},
   "source": [
    "TODOS:  \n",
    "    [X] Turn supplemental data into a pandas dataframe  \n",
    "    [X] Turn pandas dataframe into a csv"
   ]
  },
  {
   "cell_type": "code",
   "execution_count": 1,
   "metadata": {
    "collapsed": true
   },
   "outputs": [],
   "source": [
    "import pandas as pd\n",
    "import numpy as np\n",
    "import matplotlib.pyplot as plt\n",
    "from tqdm import tqdm\n",
    "import PyPDF2"
   ]
  },
  {
   "cell_type": "code",
   "execution_count": 2,
   "metadata": {
    "collapsed": true
   },
   "outputs": [],
   "source": [
    "supplement = \"Supplementary_Material_S1.pdf\"\n",
    "pdfFileObj = open(supplement, 'rb')\n",
    "pdfReader = PyPDF2.PdfFileReader(pdfFileObj)"
   ]
  },
  {
   "cell_type": "code",
   "execution_count": 3,
   "metadata": {},
   "outputs": [
    {
     "data": {
      "text/plain": [
       "817"
      ]
     },
     "execution_count": 3,
     "metadata": {},
     "output_type": "execute_result"
    }
   ],
   "source": [
    "pdfReader.numPages"
   ]
  },
  {
   "cell_type": "code",
   "execution_count": 4,
   "metadata": {},
   "outputs": [
    {
     "name": "stdout",
     "output_type": "stream",
     "text": [
      "Online Supplementary Material S1\n",
      ".The benchmark dataset used in this study contains \n",
      "7329 sequences classified into 1070 superfamilies (SFs), which were extracted from \n",
      "the astral database and the identity \n",
      "of two sequences was lower than 95%.  >d1dlwa_ a.1.1.1 (A:) Truncated hemoglobin {Ciliate (Paramecium \n",
      "caudatum)} \n",
      "SLFEQLGGQAAVQAVTAQFYANIQADATVATFFNGIDMPNQTNKTAAFLCAALGGPNAWTGRNLK\n",
      "EVHANMGVSNAQFTTVIGHLRSALTGAGVAAALVEQTVAVAETVRGDVVTV \n",
      ">d1dlya_ a.1.1.1 (A:) Truncated hemoglobin {Green alga (Chlamydomonas eugametos)} \n",
      "SLFAKLGGREAVEAAVDKFYNKIVADPTVSTYFSNTDMKVQRSKQFAFLAYALGGASEWKGKDMR\n",
      "TAHKDLVPHLSDVHFQAVARHLSDTLTELGVPPEDITDAMAVVASTRTEVLNMPQQ \n",
      ">d1idra_ a.1.1.1 (A:) Truncated hemoglobin {Mycobacterium \n",
      "\n",
      "tuberculosis} \n",
      "GLLSRLRKREPISIYDKIGGHEAIEVVVEDFYVRVLADDQLSAFFSGTNMSRLKGKQVEFFAAAL\n",
      "GGPEPYTGAPMKQVHQGRGITMHHFSLVAGHLADALTAAGVPSETITEILGVIAPLAVDVTS \n",
      ">d1scta_ a.1.1.2 (A:) Hemoglobin I {Ark clam (Scapharca \n",
      "\n",
      "inaequivalvis)} \n",
      "VDAAVAKVCGSEAIKANLRRSWGVLSADIEATGLMLMSNLFTLRPDTKTYFTRLGDVQKGKANSK\n",
      "LRGHAITLTYALNNFVDSLDDPSRLKCVVEKFAVNHINRKISGDAFGAIVEPMKETLKARMGNYY\n",
      "SDDVAGAWAALVGVVQAAL \n",
      ">d1sctb_ a.1.1.2 (B:) Hemoglobin I {Ark clam (Scapharca \n",
      "\n",
      "inaequivalvis)} \n",
      "KVAELANAVVSNADQKDLLRMSWGVLSVDMEGTGLMLMANLFKTSPSAKGKFARLGDVSAGKDNS\n",
      "KLRGHSITLMYALQNFVDALDDVERLKCVVEKFAVNHINRQISADEFGEIVGPLRQTLKARMGNY\n",
      "FDEDTVAAWASLVAVVQASL \n",
      ">d3sdha_ a.1.1.2 (A:) Hemoglobin I {Ark clam (Scapharca \n",
      "\n",
      "inaequivalvis)} \n",
      "SVYDAAAQLTADVKKDLRDSWKVIGSDKKGNGVALMTTLFADNQETIGYFKRLGNVSQGMANDKL\n",
      "RGHSITLMYALQNFIDQLDNPDDLVCVVEKFAVNHITRKISAAEFGKINGPIKKVLASKNFGDKY\n",
      "ANAWAKLVAVVQAAL \n",
      ">d1b0b__ a.1.1.2 (-) Hemoglobin I {Clam (Lucina pectinata)} \n",
      "SLSAAQKDNVKSSWAKASAAWGTAGPEFFMALFDAHDDVFAKFSGLFSGAAKGTVKNTPEMAAQA\n",
      "QSFKGLVSNWVDNLDNAGALEGQCKTFAANHKARGISAGQLEAAFKVLAGFMKSYGGDEGAWTAV\n",
      "AGALMGMIRPDM \n",
      ">d1h97a_ a.1.1.2 (A:) Trematode hemoglobin/myoglobin {Paramphistomum \n",
      "epiclitum} \n",
      "TLTKHEQDILLKELGPHVDTPAHIVETGLGAYHALFTAHPQYISHFSRLEGHTIENVMQSEGIKH\n",
      "YARTLTEAIVHMLKEISNDAEVKKIAAQYGKDHTSRKVTKDEFMSGEPIFTKYFQNLVKDAEGKA\n",
      "AVEKFLKHVFPMMAAEI \n",
      ">d1vrea_ a.1.1.2 (A:) Glycera globin {Marine bloodworm (Glycera \n",
      "\n",
      "dibranchiata)} \n",
      "GLSAAQRQVVASTWKDIAGSDNGAGVGKECFTKFLSAHHDMAAVFGFSGASDPGVADLGAKVLAQ\n",
      "IGVAVSHLGDEGKMVAEMKAVGVRHKGYGNKHIKAEYFEPLGASLLSAMEHRIGGKMNAAAKDAW\n"
     ]
    }
   ],
   "source": [
    "pageObj = pdfReader.getPage(0)\n",
    "print(pageObj.extractText())"
   ]
  },
  {
   "cell_type": "code",
   "execution_count": 5,
   "metadata": {},
   "outputs": [
    {
     "name": "stderr",
     "output_type": "stream",
     "text": [
      "100%|██████████| 817/817 [00:05<00:00, 147.37it/s]\n"
     ]
    },
    {
     "data": {
      "text/plain": [
       "1945840"
      ]
     },
     "execution_count": 5,
     "metadata": {},
     "output_type": "execute_result"
    }
   ],
   "source": [
    "#note that there are proportedly 7329 proteins total\n",
    "#First dataframe 2X7329, identifiers, sequence\n",
    "text = '';\n",
    "for i in tqdm(np.arange(pdfReader.numPages)):\n",
    "    pageObj = pdfReader.getPage(i)\n",
    "    text += pageObj.extractText()\n",
    "len(text)"
   ]
  },
  {
   "cell_type": "code",
   "execution_count": 17,
   "metadata": {},
   "outputs": [
    {
     "data": {
      "text/plain": [
       "1906072"
      ]
     },
     "execution_count": 17,
     "metadata": {},
     "output_type": "execute_result"
    }
   ],
   "source": [
    "text = text.replace('\\n', '')\n",
    "text = text.replace('i>', '')\n",
    "text = text.replace('>p', '')\n",
    "\n",
    "len(text)"
   ]
  },
  {
   "cell_type": "code",
   "execution_count": 18,
   "metadata": {},
   "outputs": [
    {
     "data": {
      "text/plain": [
       "7330"
      ]
     },
     "execution_count": 18,
     "metadata": {},
     "output_type": "execute_result"
    }
   ],
   "source": [
    "raw_proteins = text.split('>')\n",
    "len(raw_proteins)"
   ]
  },
  {
   "cell_type": "code",
   "execution_count": 19,
   "metadata": {},
   "outputs": [
    {
     "data": {
      "text/plain": [
       "'d1dlwa_ a.1.1.1 (A:) Truncated hemoglobin {Ciliate (Paramecium caudatum)} SLFEQLGGQAAVQAVTAQFYANIQADATVATFFNGIDMPNQTNKTAAFLCAALGGPNAWTGRNLKEVHANMGVSNAQFTTVIGHLRSALTGAGVAAALVEQTVAVAETVRGDVVTV '"
      ]
     },
     "execution_count": 19,
     "metadata": {},
     "output_type": "execute_result"
    }
   ],
   "source": [
    "raw_proteins[1]"
   ]
  },
  {
   "cell_type": "code",
   "execution_count": 20,
   "metadata": {},
   "outputs": [
    {
     "name": "stderr",
     "output_type": "stream",
     "text": [
      "100%|██████████| 7329/7329 [00:00<00:00, 146997.90it/s]\n"
     ]
    },
    {
     "data": {
      "text/plain": [
       "7329"
      ]
     },
     "execution_count": 20,
     "metadata": {},
     "output_type": "execute_result"
    }
   ],
   "source": [
    "ID = []\n",
    "family = []\n",
    "thingy = []\n",
    "info = []\n",
    "sequence = []\n",
    "for i in tqdm(np.arange(len(raw_proteins)-1)):\n",
    "    record = raw_proteins[i+1].split(' ', maxsplit = 1)\n",
    "    ID.append(record[0])\n",
    "    record = record[1].split(' ', maxsplit = 1)\n",
    "    family.append(record[0])\n",
    "    record = record[1].split(' ', maxsplit = 1)\n",
    "    thingy.append(record[0])\n",
    "    record = record[1].split('}', maxsplit = 1)\n",
    "    info.append(record[0]+ '}')\n",
    "    try:\n",
    "        sequence.append(record[1])\n",
    "    except:\n",
    "        print(raw_proteins[i+1].split(' ', maxsplit = 1))\n",
    "records = [list(a) for a in zip(ID, family, thingy, info, sequence)]\n",
    "len(records)"
   ]
  },
  {
   "cell_type": "code",
   "execution_count": 15,
   "metadata": {},
   "outputs": [
    {
     "data": {
      "text/plain": [
       "['d1dlya_',\n",
       " 'a.1.1.1',\n",
       " '(A:)',\n",
       " 'Truncated hemoglobin {Green alga (Chlamydomonas eugametos)}',\n",
       " ' SLFAKLGGREAVEAAVDKFYNKIVADPTVSTYFSNTDMKVQRSKQFAFLAYALGGASEWKGKDMRTAHKDLVPHLSDVHFQAVARHLSDTLTELGVPPEDITDAMAVVASTRTEVLNMPQQ ']"
      ]
     },
     "execution_count": 15,
     "metadata": {},
     "output_type": "execute_result"
    }
   ],
   "source": [
    "records[1]"
   ]
  },
  {
   "cell_type": "code",
   "execution_count": 16,
   "metadata": {},
   "outputs": [
    {
     "data": {
      "text/html": [
       "<div>\n",
       "<style>\n",
       "    .dataframe thead tr:only-child th {\n",
       "        text-align: right;\n",
       "    }\n",
       "\n",
       "    .dataframe thead th {\n",
       "        text-align: left;\n",
       "    }\n",
       "\n",
       "    .dataframe tbody tr th {\n",
       "        vertical-align: top;\n",
       "    }\n",
       "</style>\n",
       "<table border=\"1\" class=\"dataframe\">\n",
       "  <thead>\n",
       "    <tr style=\"text-align: right;\">\n",
       "      <th></th>\n",
       "      <th>ID</th>\n",
       "      <th>Family</th>\n",
       "      <th>Thingy</th>\n",
       "      <th>Info</th>\n",
       "      <th>Sequence</th>\n",
       "    </tr>\n",
       "  </thead>\n",
       "  <tbody>\n",
       "    <tr>\n",
       "      <th>0</th>\n",
       "      <td>d1dlwa_</td>\n",
       "      <td>a.1.1.1</td>\n",
       "      <td>(A:)</td>\n",
       "      <td>Truncated hemoglobin {Ciliate (Paramecium caud...</td>\n",
       "      <td>SLFEQLGGQAAVQAVTAQFYANIQADATVATFFNGIDMPNQTNKT...</td>\n",
       "    </tr>\n",
       "    <tr>\n",
       "      <th>1</th>\n",
       "      <td>d1dlya_</td>\n",
       "      <td>a.1.1.1</td>\n",
       "      <td>(A:)</td>\n",
       "      <td>Truncated hemoglobin {Green alga (Chlamydomona...</td>\n",
       "      <td>SLFAKLGGREAVEAAVDKFYNKIVADPTVSTYFSNTDMKVQRSKQ...</td>\n",
       "    </tr>\n",
       "    <tr>\n",
       "      <th>2</th>\n",
       "      <td>d1idra_</td>\n",
       "      <td>a.1.1.1</td>\n",
       "      <td>(A:)</td>\n",
       "      <td>Truncated hemoglobin {Mycobacterium tuberculosis}</td>\n",
       "      <td>GLLSRLRKREPISIYDKIGGHEAIEVVVEDFYVRVLADDQLSAFF...</td>\n",
       "    </tr>\n",
       "    <tr>\n",
       "      <th>3</th>\n",
       "      <td>d1scta_</td>\n",
       "      <td>a.1.1.2</td>\n",
       "      <td>(A:)</td>\n",
       "      <td>Hemoglobin I {Ark clam (Scapharca inaequivalvis)}</td>\n",
       "      <td>VDAAVAKVCGSEAIKANLRRSWGVLSADIEATGLMLMSNLFTLRP...</td>\n",
       "    </tr>\n",
       "    <tr>\n",
       "      <th>4</th>\n",
       "      <td>d1sctb_</td>\n",
       "      <td>a.1.1.2</td>\n",
       "      <td>(B:)</td>\n",
       "      <td>Hemoglobin I {Ark clam (Scapharca inaequivalvis)}</td>\n",
       "      <td>KVAELANAVVSNADQKDLLRMSWGVLSVDMEGTGLMLMANLFKTS...</td>\n",
       "    </tr>\n",
       "  </tbody>\n",
       "</table>\n",
       "</div>"
      ],
      "text/plain": [
       "        ID   Family Thingy                                               Info  \\\n",
       "0  d1dlwa_  a.1.1.1   (A:)  Truncated hemoglobin {Ciliate (Paramecium caud...   \n",
       "1  d1dlya_  a.1.1.1   (A:)  Truncated hemoglobin {Green alga (Chlamydomona...   \n",
       "2  d1idra_  a.1.1.1   (A:)  Truncated hemoglobin {Mycobacterium tuberculosis}   \n",
       "3  d1scta_  a.1.1.2   (A:)  Hemoglobin I {Ark clam (Scapharca inaequivalvis)}   \n",
       "4  d1sctb_  a.1.1.2   (B:)  Hemoglobin I {Ark clam (Scapharca inaequivalvis)}   \n",
       "\n",
       "                                            Sequence  \n",
       "0   SLFEQLGGQAAVQAVTAQFYANIQADATVATFFNGIDMPNQTNKT...  \n",
       "1   SLFAKLGGREAVEAAVDKFYNKIVADPTVSTYFSNTDMKVQRSKQ...  \n",
       "2   GLLSRLRKREPISIYDKIGGHEAIEVVVEDFYVRVLADDQLSAFF...  \n",
       "3   VDAAVAKVCGSEAIKANLRRSWGVLSADIEATGLMLMSNLFTLRP...  \n",
       "4   KVAELANAVVSNADQKDLLRMSWGVLSVDMEGTGLMLMANLFKTS...  "
      ]
     },
     "execution_count": 16,
     "metadata": {},
     "output_type": "execute_result"
    }
   ],
   "source": [
    "labels = [\"ID\", 'Family', 'Thingy', 'Info', 'Sequence']\n",
    "df =  pd.DataFrame.from_records(records, columns=labels)\n",
    "df.head()"
   ]
  },
  {
   "cell_type": "code",
   "execution_count": 1,
   "metadata": {},
   "outputs": [
    {
     "ename": "NameError",
     "evalue": "name 'labels' is not defined",
     "output_type": "error",
     "traceback": [
      "\u001b[0;31m---------------------------------------------------------------------------\u001b[0m",
      "\u001b[0;31mNameError\u001b[0m                                 Traceback (most recent call last)",
      "\u001b[0;32m<ipython-input-1-61260ae57cbb>\u001b[0m in \u001b[0;36m<module>\u001b[0;34m()\u001b[0m\n\u001b[0;32m----> 1\u001b[0;31m \u001b[0mlabels\u001b[0m\u001b[0;34m.\u001b[0m\u001b[0mto_csv\u001b[0m\u001b[0;34m(\u001b[0m\u001b[0;34m'trainingLabels'\u001b[0m\u001b[0;34m)\u001b[0m\u001b[0;34m\u001b[0m\u001b[0m\n\u001b[0m",
      "\u001b[0;31mNameError\u001b[0m: name 'labels' is not defined"
     ]
    }
   ],
   "source": []
  },
  {
   "cell_type": "code",
   "execution_count": null,
   "metadata": {
    "collapsed": true
   },
   "outputs": [],
   "source": []
  }
 ],
 "metadata": {
  "kernelspec": {
   "display_name": "Python 3",
   "language": "python",
   "name": "python3"
  },
  "language_info": {
   "codemirror_mode": {
    "name": "ipython",
    "version": 3
   },
   "file_extension": ".py",
   "mimetype": "text/x-python",
   "name": "python",
   "nbconvert_exporter": "python",
   "pygments_lexer": "ipython3",
   "version": "3.6.1"
  }
 },
 "nbformat": 4,
 "nbformat_minor": 2
}
